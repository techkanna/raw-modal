{
 "cells": [
  {
   "cell_type": "code",
   "execution_count": 6,
   "metadata": {},
   "outputs": [
    {
     "name": "stderr",
     "output_type": "stream",
     "text": [
      "C:\\Users\\senth\\AppData\\Local\\Temp\\ipykernel_8280\\65127056.py:6: FutureWarning: You are using `torch.load` with `weights_only=False` (the current default value), which uses the default pickle module implicitly. It is possible to construct malicious pickle data which will execute arbitrary code during unpickling (See https://github.com/pytorch/pytorch/blob/main/SECURITY.md#untrusted-models for more details). In a future release, the default value for `weights_only` will be flipped to `True`. This limits the functions that could be executed during unpickling. Arbitrary objects will no longer be allowed to be loaded via this mode unless they are explicitly allowlisted by the user via `torch.serialization.add_safe_globals`. We recommend you start setting `weights_only=True` for any use case where you don't have full control of the loaded file. Please open an issue on GitHub for any issues related to this experimental feature.\n",
      "  m.load_state_dict(torch.load(\"bigram_language_model.pth\"))\n"
     ]
    },
    {
     "data": {
      "text/plain": [
       "<All keys matched successfully>"
      ]
     },
     "execution_count": 6,
     "metadata": {},
     "output_type": "execute_result"
    }
   ],
   "source": [
    "import torch\n",
    "import modal_class \n",
    "model = modal_class.BigramLanguageModel()\n",
    "m = model.to(modal_class.device)\n",
    "# m.load_state_dict(torch.load(\"before_training_bigram_language_model.pth\"))\n",
    "m.load_state_dict(torch.load(\"bigram_language_model.pth\"))"
   ]
  },
  {
   "cell_type": "code",
   "execution_count": 7,
   "metadata": {},
   "outputs": [
    {
     "name": "stdout",
     "output_type": "stream",
     "text": [
      "Firstle of whish Pried my of.\n",
      "\n",
      "HENNLIE!\n",
      "\n",
      "GRIONI:\n",
      "\n",
      "Sadsal your get my ut best asaranny I you\n",
      "mence you! wiken pand, bemary.\n",
      "You I whas yom so, have,\n",
      "No-sencurset selet.\n",
      "\n",
      "CORYCENO:\n",
      "Be he will wetis I whim sc\n"
     ]
    }
   ],
   "source": [
    "# generate from the model\n",
    "context = torch.tensor([modal_class.encode(\"First\")],dtype=torch.long, device=modal_class.device)\n",
    "print(modal_class.decode(m.generate(context, max_new_tokens=200)[0].tolist()))"
   ]
  },
  {
   "cell_type": "code",
   "execution_count": 9,
   "metadata": {},
   "outputs": [],
   "source": [
    "# create a PyTorch optimizer\n",
    "optimizer = torch.optim.AdamW(model.parameters(), lr=modal_class.learning_rate)\n",
    "\n",
    "for iter in range(1500):\n",
    "\n",
    "    # every once in a while evaluate the loss on train and val sets\n",
    "    # if iter % modal_class.eval_interval == 0 or iter == modal_class.max_iters - 1:\n",
    "    #     losses = modal_class.estimate_loss()\n",
    "    #     print(f\"step {iter}: train loss {losses['train']:.4f}, val loss {losses['val']:.4f}\")\n",
    "\n",
    "    # sample a batch of data\n",
    "    xb, yb = modal_class.get_batch('train')\n",
    "\n",
    "    # evaluate the loss\n",
    "    logits, loss = model(xb, yb)\n",
    "    optimizer.zero_grad(set_to_none=True)\n",
    "    loss.backward()\n",
    "    optimizer.step()"
   ]
  },
  {
   "cell_type": "code",
   "execution_count": 10,
   "metadata": {},
   "outputs": [
    {
     "name": "stdout",
     "output_type": "stream",
     "text": [
      "First: frepy the atcain, mouthing foul pear\n",
      "Serseled Penbent over a mains!\n",
      "\n",
      "KING EDIZ EDWARD IV:\n",
      "Will I saxe fear tall: the gold give this hend ducht\n",
      "Tee, our any this abows agains but with soul.\n",
      "\n",
      "CORTHARD\n"
     ]
    }
   ],
   "source": [
    "# generate from the model\n",
    "context = torch.tensor([modal_class.encode(\"First\")],dtype=torch.long, device=modal_class.device)\n",
    "print(modal_class.decode(m.generate(context, max_new_tokens=200)[0].tolist()))"
   ]
  },
  {
   "cell_type": "code",
   "execution_count": 12,
   "metadata": {},
   "outputs": [],
   "source": [
    "# Save the model state_dict\n",
    "torch.save(model.state_dict(), \"bigram_language_model.pth\")\n",
    "\n",
    "# # Save the entire model (not recommended for portability)\n",
    "# torch.save(model, \"bigram_language_model_full.pth\")\n",
    "\n",
    "# # Assuming you have an optimizer\n",
    "# optimizer = torch.optim.Adam(model.parameters(), lr=modal_class.learning_rate)\n",
    "# losses = modal_class.estimate_loss()\n",
    "# # Save model and optimizer state_dicts\n",
    "# torch.save({\n",
    "#     'model_state_dict': model.state_dict(),\n",
    "#     'optimizer_state_dict': optimizer.state_dict(),\n",
    "#     # 'epoch': epoch,  # Optional: save the current epoch for resuming training\n",
    "#     'loss': losses,    # Optional: save the current loss if needed\n",
    "# }, \"checkpoint.pth\")"
   ]
  }
 ],
 "metadata": {
  "kernelspec": {
   "display_name": "Python 3",
   "language": "python",
   "name": "python3"
  },
  "language_info": {
   "codemirror_mode": {
    "name": "ipython",
    "version": 3
   },
   "file_extension": ".py",
   "mimetype": "text/x-python",
   "name": "python",
   "nbconvert_exporter": "python",
   "pygments_lexer": "ipython3",
   "version": "3.12.8"
  }
 },
 "nbformat": 4,
 "nbformat_minor": 2
}
