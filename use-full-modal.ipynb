{
 "cells": [
  {
   "cell_type": "code",
   "execution_count": 10,
   "metadata": {},
   "outputs": [],
   "source": [
    "import torch"
   ]
  },
  {
   "cell_type": "code",
   "execution_count": 11,
   "metadata": {},
   "outputs": [
    {
     "name": "stderr",
     "output_type": "stream",
     "text": [
      "C:\\Users\\senth\\AppData\\Local\\Temp\\ipykernel_5000\\1782743981.py:5: FutureWarning: You are using `torch.load` with `weights_only=False` (the current default value), which uses the default pickle module implicitly. It is possible to construct malicious pickle data which will execute arbitrary code during unpickling (See https://github.com/pytorch/pytorch/blob/main/SECURITY.md#untrusted-models for more details). In a future release, the default value for `weights_only` will be flipped to `True`. This limits the functions that could be executed during unpickling. Arbitrary objects will no longer be allowed to be loaded via this mode unless they are explicitly allowlisted by the user via `torch.serialization.add_safe_globals`. We recommend you start setting `weights_only=True` for any use case where you don't have full control of the loaded file. Please open an issue on GitHub for any issues related to this experimental feature.\n",
      "  m.load_state_dict(torch.load(\"bigram_language_model.pth\"))\n"
     ]
    },
    {
     "data": {
      "text/plain": [
       "<All keys matched successfully>"
      ]
     },
     "execution_count": 11,
     "metadata": {},
     "output_type": "execute_result"
    }
   ],
   "source": [
    "import modal_class\n",
    "modal = modal_class.BigramLanguageModel()\n",
    "m = modal.to(modal_class.device)\n",
    "# m.load_state_dict(torch.load(\"before_training_bigram_language_model.pth\"))\n",
    "m.load_state_dict(torch.load(\"bigram_language_model.pth\"))"
   ]
  },
  {
   "cell_type": "code",
   "execution_count": 12,
   "metadata": {},
   "outputs": [
    {
     "name": "stdout",
     "output_type": "stream",
     "text": [
      "First, neet noke mary.\n",
      "\n",
      "BXOMENIUS:\n",
      "Am so, I wecre me nomes the men.\n",
      "\n",
      "CORYCENO:\n",
      "Be he will wetis I whim scon fepy that thas lome\n",
      "Isias for al in stroe evide.\n",
      "\n",
      "\n",
      "PETROULIZE:\n",
      "St!\n",
      "\n",
      "Rom:\n",
      "And meent stie sting all\n"
     ]
    }
   ],
   "source": [
    "# generate from the model\n",
    "context = torch.tensor([modal_class.encode(\"First\")],dtype=torch.long, device=modal_class.device)\n",
    "print(modal_class.decode(m.generate(context, max_new_tokens=200)[0].tolist()))"
   ]
  }
 ],
 "metadata": {
  "kernelspec": {
   "display_name": "Python 3",
   "language": "python",
   "name": "python3"
  },
  "language_info": {
   "codemirror_mode": {
    "name": "ipython",
    "version": 3
   },
   "file_extension": ".py",
   "mimetype": "text/x-python",
   "name": "python",
   "nbconvert_exporter": "python",
   "pygments_lexer": "ipython3",
   "version": "3.12.8"
  }
 },
 "nbformat": 4,
 "nbformat_minor": 2
}
